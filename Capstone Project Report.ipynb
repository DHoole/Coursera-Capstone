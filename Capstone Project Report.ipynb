{
    "cells": [
        {
            "cell_type": "markdown",
            "metadata": {
                "collapsed": true
            },
            "source": "# Finding the Best Postcode District in Central London in Which to Open a Restaurant"
        },
        {
            "cell_type": "markdown",
            "metadata": {},
            "source": "## Intoduction\nLondon is the capital and largest city in England. Home to a wealth of potential customers, it is an ideal location in which to open restaurant. However, as the city is as large as it is, there are certain areas which are more suited to restaurants and other areas where a restaurant would not be so successful. The goal of this report is to find which areas different types of restaurants will be most successful in and to explore the reasons behind the difference. To do this, I will be separating London by its postcodes, focussing on those that are central. This will include only Western Central (WC) and Eastern Central (EC) postcodes, as due to being in the centre they will have the highest footfall and therefore the most potential customers. I will be using the Foursquare API to access the data on venues which will inform the analysis. The results from this report can be used by anyone who is looking to open a restaurant to see where their type of restaurant will be most successful, allowing them to be more profitable."
        },
        {
            "cell_type": "markdown",
            "metadata": {},
            "source": "## Data\nThe data for the postcodes in central London can be found on Wikipedia (https://en.wikipedia.org/wiki/London_postal_district#List_of_London_postal_districts). The table on this page lists all the postcodes and the corresponding area names including the central postcodes that we will be using for this report. We can use these postcodes to define the latitude and longitude of each area. This will then allow us to access the FourSquare location data using the FourSquare API. This will give us information on the different types of venues and their popularity. This will allow us to determine which locations have a market for the desired type of restaurant and where competition will be higher or lower."
        },
        {
            "cell_type": "code",
            "execution_count": null,
            "metadata": {},
            "outputs": [],
            "source": ""
        }
    ],
    "metadata": {
        "kernelspec": {
            "display_name": "Python 3.7",
            "language": "python",
            "name": "python3"
        },
        "language_info": {
            "codemirror_mode": {
                "name": "ipython",
                "version": 3
            },
            "file_extension": ".py",
            "mimetype": "text/x-python",
            "name": "python",
            "nbconvert_exporter": "python",
            "pygments_lexer": "ipython3",
            "version": "3.7.9"
        }
    },
    "nbformat": 4,
    "nbformat_minor": 1
}